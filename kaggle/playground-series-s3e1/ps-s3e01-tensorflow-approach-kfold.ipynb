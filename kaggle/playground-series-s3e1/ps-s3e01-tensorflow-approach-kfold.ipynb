{
 "cells": [
  {
   "cell_type": "markdown",
   "id": "dcc4bb19",
   "metadata": {
    "_cell_guid": "b1076dfc-b9ad-4769-8c92-a6c4dae69d19",
    "_uuid": "8f2839f25d086af736a60e9eeb907d3b93b6e0e5",
    "papermill": {
     "duration": 0.007922,
     "end_time": "2023-01-09T15:09:02.632679",
     "exception": false,
     "start_time": "2023-01-09T15:09:02.624757",
     "status": "completed"
    },
    "tags": []
   },
   "source": [
    "Hello fellow kagglers! Lets check out tensorflow approach"
   ]
  },
  {
   "cell_type": "markdown",
   "id": "9e90bef5",
   "metadata": {
    "papermill": {
     "duration": 0.006579,
     "end_time": "2023-01-09T15:09:02.646638",
     "exception": false,
     "start_time": "2023-01-09T15:09:02.640059",
     "status": "completed"
    },
    "tags": []
   },
   "source": [
    "# Imports"
   ]
  },
  {
   "cell_type": "code",
   "execution_count": 1,
   "id": "ac6aa1d8",
   "metadata": {
    "_kg_hide-input": true,
    "execution": {
     "iopub.execute_input": "2023-01-09T15:09:02.663225Z",
     "iopub.status.busy": "2023-01-09T15:09:02.661857Z",
     "iopub.status.idle": "2023-01-09T15:09:10.169852Z",
     "shell.execute_reply": "2023-01-09T15:09:10.168829Z"
    },
    "papermill": {
     "duration": 7.519155,
     "end_time": "2023-01-09T15:09:10.172718",
     "exception": false,
     "start_time": "2023-01-09T15:09:02.653563",
     "status": "completed"
    },
    "tags": []
   },
   "outputs": [],
   "source": [
    "import os\n",
    "import numpy as np\n",
    "import pandas as pd\n",
    "import sklearn\n",
    "from sklearn.datasets import fetch_california_housing\n",
    "from sklearn.model_selection import train_test_split, cross_val_score, KFold\n",
    "from sklearn.metrics import mean_squared_error\n",
    "import tensorflow as tf\n",
    "import tensorflow.keras.layers as layers\n",
    "import tensorflow.keras.regularizers as reg\n",
    "import matplotlib.pyplot as plt\n",
    "import matplotlib as mpl\n",
    "\n",
    "%matplotlib inline"
   ]
  },
  {
   "cell_type": "markdown",
   "id": "1e20a60d",
   "metadata": {
    "papermill": {
     "duration": 0.006531,
     "end_time": "2023-01-09T15:09:10.186371",
     "exception": false,
     "start_time": "2023-01-09T15:09:10.179840",
     "status": "completed"
    },
    "tags": []
   },
   "source": [
    "# Utils"
   ]
  },
  {
   "cell_type": "code",
   "execution_count": 2,
   "id": "755558a0",
   "metadata": {
    "_kg_hide-input": true,
    "execution": {
     "iopub.execute_input": "2023-01-09T15:09:10.204125Z",
     "iopub.status.busy": "2023-01-09T15:09:10.202956Z",
     "iopub.status.idle": "2023-01-09T15:09:10.224297Z",
     "shell.execute_reply": "2023-01-09T15:09:10.223295Z"
    },
    "jupyter": {
     "source_hidden": true
    },
    "papermill": {
     "duration": 0.033357,
     "end_time": "2023-01-09T15:09:10.226881",
     "exception": false,
     "start_time": "2023-01-09T15:09:10.193524",
     "status": "completed"
    },
    "tags": []
   },
   "outputs": [],
   "source": [
    "def get_best(history: dict, met='loss', best_min=True):\n",
    "    val_met = f'val_{met}'\n",
    "    bt = np.min(history[met]) if best_min else np.max(history[met])\n",
    "    bv = None\n",
    "    if val_met in history.keys():\n",
    "        bv = np.min(history[val_met]) if best_min else np.max(history[val_met])\n",
    "    return bv, bt\n",
    "\n",
    "def plot_history(history: dict, k=0, met='loss', best_min=True):\n",
    "    bbox = dict(\n",
    "        boxstyle='round, pad=0.01',\n",
    "        ec='w',\n",
    "        fc='w',\n",
    "        ls='-',\n",
    "    )\n",
    "    val_met = f'val_{met}'\n",
    "    maxy = np.max(history[met][k:])\n",
    "    miny = np.min(history[met][k:])\n",
    "    if val_met in history.keys():\n",
    "        maxy = np.max([np.max(history[met][k:]), np.max(history[val_met][k:])])\n",
    "        miny = np.min([np.max(history[met][k:]), np.min(history[val_met][k:])])\n",
    "    loss = history[met][k:]\n",
    "    epochs = range(k + 1, len(loss) + 1 + k)\n",
    "    xbin = len(epochs)\n",
    "    if xbin > 50:\n",
    "        xbin = xbin // 5\n",
    "    elif xbin > 20:\n",
    "        xbin = xbin // 2\n",
    "    plt.figure(figsize=(12, 8))\n",
    "    plt.locator_params(axis='y', nbins=10)\n",
    "    plt.locator_params(axis='x', nbins=xbin)\n",
    "    lr_key = 'lr'\n",
    "    if lr_key in history.keys():\n",
    "        lrd = []\n",
    "        lr = history[lr_key][0]\n",
    "        for i, l in enumerate(history[lr_key]):\n",
    "            if (i > k) & (l < lr):\n",
    "                lr = l\n",
    "                lrd.append(i)\n",
    "                plt.text(i, (maxy - miny) * 0.9 + miny, f'{lr:.2}', fontsize=10, bbox=bbox,\n",
    "                         horizontalalignment='center')\n",
    "        for i in lrd:\n",
    "            plt.axvline(i, c='m')\n",
    "    ep = (np.argmin(history[met]) if best_min else np.argmax(history[met])) + 1\n",
    "    m = np.min(history[met]) if best_min else np.max(history[met])\n",
    "    plt.plot(epochs, loss, label=f'Training {met}')\n",
    "    if ep >= k:\n",
    "        plt.scatter([ep], [m], c='tab:blue', s=75)\n",
    "        plt.text(ep, m + (maxy - miny) * 0.02, f'{m:.4}', fontsize=15, bbox=bbox, horizontalalignment='center')\n",
    "    if val_met in history.keys():\n",
    "        ep = (np.argmin(history[val_met]) if best_min else np.argmax(history[val_met])) + 1\n",
    "        m = np.min(history[val_met]) if best_min else np.max(history[val_met])\n",
    "        val_loss = history[val_met][k:]\n",
    "        plt.plot(epochs, val_loss, label=f'Validation {met}')\n",
    "        if ep >= k:\n",
    "            plt.scatter([ep], [m], c='tab:orange', s=75)\n",
    "            plt.text(ep, m + (maxy - miny) * 0.02, f'{m:.4}', fontsize=15, bbox=bbox, horizontalalignment='center')\n",
    "    plt.title(f'Training and validation {met}')\n",
    "    plt.xlabel('Epochs')\n",
    "    plt.ylabel(f'{met}')\n",
    "    plt.legend()\n",
    "    plt.grid(True)\n",
    "    plt.show()"
   ]
  },
  {
   "cell_type": "markdown",
   "id": "3d476f42",
   "metadata": {
    "papermill": {
     "duration": 0.006688,
     "end_time": "2023-01-09T15:09:10.240497",
     "exception": false,
     "start_time": "2023-01-09T15:09:10.233809",
     "status": "completed"
    },
    "tags": []
   },
   "source": [
    "# Config"
   ]
  },
  {
   "cell_type": "code",
   "execution_count": 3,
   "id": "5b518e04",
   "metadata": {
    "execution": {
     "iopub.execute_input": "2023-01-09T15:09:10.256720Z",
     "iopub.status.busy": "2023-01-09T15:09:10.255869Z",
     "iopub.status.idle": "2023-01-09T15:09:10.262915Z",
     "shell.execute_reply": "2023-01-09T15:09:10.261969Z"
    },
    "papermill": {
     "duration": 0.017894,
     "end_time": "2023-01-09T15:09:10.265361",
     "exception": false,
     "start_time": "2023-01-09T15:09:10.247467",
     "status": "completed"
    },
    "tags": []
   },
   "outputs": [],
   "source": [
    "class conf:\n",
    "    index = 'id'\n",
    "    target = 'MedHouseVal'\n",
    "    random = 2023\n",
    "    batch_size = 64\n",
    "    init_lr = 1e-3\n",
    "    \n",
    "    remove_out = False\n",
    "    clip_out = False\n",
    "    \n",
    "    load_original = True\n",
    "    min_max = False\n",
    "    \n",
    "    best_only = True\n",
    "    \n",
    "    is_interactive = os.environ['KAGGLE_KERNEL_RUN_TYPE'] == 'Interactive'\n",
    "#     verbose = 1 if is_interactive else 2\n",
    "    verbose = False\n",
    "np.random.seed(conf.random)"
   ]
  },
  {
   "cell_type": "markdown",
   "id": "b558a84c",
   "metadata": {
    "papermill": {
     "duration": 0.006711,
     "end_time": "2023-01-09T15:09:10.280628",
     "exception": false,
     "start_time": "2023-01-09T15:09:10.273917",
     "status": "completed"
    },
    "tags": []
   },
   "source": [
    "# Load data and simple EDA"
   ]
  },
  {
   "cell_type": "code",
   "execution_count": 4,
   "id": "55502384",
   "metadata": {
    "execution": {
     "iopub.execute_input": "2023-01-09T15:09:10.296675Z",
     "iopub.status.busy": "2023-01-09T15:09:10.295821Z",
     "iopub.status.idle": "2023-01-09T15:09:12.195250Z",
     "shell.execute_reply": "2023-01-09T15:09:12.193789Z"
    },
    "papermill": {
     "duration": 1.910432,
     "end_time": "2023-01-09T15:09:12.197909",
     "exception": false,
     "start_time": "2023-01-09T15:09:10.287477",
     "status": "completed"
    },
    "tags": []
   },
   "outputs": [
    {
     "name": "stdout",
     "output_type": "stream",
     "text": [
      "Load external data...\n",
      "<class 'pandas.core.frame.DataFrame'>\n",
      "Int64Index: 57777 entries, 0 to 37136\n",
      "Data columns (total 9 columns):\n",
      " #   Column       Non-Null Count  Dtype  \n",
      "---  ------       --------------  -----  \n",
      " 0   MedInc       57777 non-null  float64\n",
      " 1   HouseAge     57777 non-null  float64\n",
      " 2   AveRooms     57777 non-null  float64\n",
      " 3   AveBedrms    57777 non-null  float64\n",
      " 4   Population   57777 non-null  float64\n",
      " 5   AveOccup     57777 non-null  float64\n",
      " 6   Latitude     57777 non-null  float64\n",
      " 7   Longitude    57777 non-null  float64\n",
      " 8   MedHouseVal  57777 non-null  float64\n",
      "dtypes: float64(9)\n",
      "memory usage: 4.4 MB\n"
     ]
    }
   ],
   "source": [
    "train_full = pd.read_csv(\"/kaggle/input/playground-series-s3e1/train.csv\", index_col=conf.index)\n",
    "test_full = pd.read_csv(\"/kaggle/input/playground-series-s3e1/test.csv\", index_col=conf.index)\n",
    "train = train_full.copy()\n",
    "if conf.load_original:\n",
    "    print(\"Load external data...\")\n",
    "    original = fetch_california_housing()\n",
    "    ext_df = pd.DataFrame(original['data'], columns=list(test_full.columns))\n",
    "    ext_df[conf.target] = original['target']\n",
    "    train = pd.concat([ext_df, train_full])\n",
    "train.info()"
   ]
  },
  {
   "cell_type": "code",
   "execution_count": 5,
   "id": "502cb11c",
   "metadata": {
    "execution": {
     "iopub.execute_input": "2023-01-09T15:09:12.213946Z",
     "iopub.status.busy": "2023-01-09T15:09:12.213237Z",
     "iopub.status.idle": "2023-01-09T15:09:12.238819Z",
     "shell.execute_reply": "2023-01-09T15:09:12.237499Z"
    },
    "papermill": {
     "duration": 0.036514,
     "end_time": "2023-01-09T15:09:12.241381",
     "exception": false,
     "start_time": "2023-01-09T15:09:12.204867",
     "status": "completed"
    },
    "tags": []
   },
   "outputs": [
    {
     "data": {
      "text/html": [
       "<div>\n",
       "<style scoped>\n",
       "    .dataframe tbody tr th:only-of-type {\n",
       "        vertical-align: middle;\n",
       "    }\n",
       "\n",
       "    .dataframe tbody tr th {\n",
       "        vertical-align: top;\n",
       "    }\n",
       "\n",
       "    .dataframe thead th {\n",
       "        text-align: right;\n",
       "    }\n",
       "</style>\n",
       "<table border=\"1\" class=\"dataframe\">\n",
       "  <thead>\n",
       "    <tr style=\"text-align: right;\">\n",
       "      <th></th>\n",
       "      <th>MedInc</th>\n",
       "      <th>HouseAge</th>\n",
       "      <th>AveRooms</th>\n",
       "      <th>AveBedrms</th>\n",
       "      <th>Population</th>\n",
       "      <th>AveOccup</th>\n",
       "      <th>Latitude</th>\n",
       "      <th>Longitude</th>\n",
       "      <th>MedHouseVal</th>\n",
       "    </tr>\n",
       "  </thead>\n",
       "  <tbody>\n",
       "    <tr>\n",
       "      <th>0</th>\n",
       "      <td>8.3252</td>\n",
       "      <td>41.0</td>\n",
       "      <td>6.984127</td>\n",
       "      <td>1.023810</td>\n",
       "      <td>322.0</td>\n",
       "      <td>2.555556</td>\n",
       "      <td>37.88</td>\n",
       "      <td>-122.23</td>\n",
       "      <td>4.526</td>\n",
       "    </tr>\n",
       "    <tr>\n",
       "      <th>1</th>\n",
       "      <td>8.3014</td>\n",
       "      <td>21.0</td>\n",
       "      <td>6.238137</td>\n",
       "      <td>0.971880</td>\n",
       "      <td>2401.0</td>\n",
       "      <td>2.109842</td>\n",
       "      <td>37.86</td>\n",
       "      <td>-122.22</td>\n",
       "      <td>3.585</td>\n",
       "    </tr>\n",
       "    <tr>\n",
       "      <th>2</th>\n",
       "      <td>7.2574</td>\n",
       "      <td>52.0</td>\n",
       "      <td>8.288136</td>\n",
       "      <td>1.073446</td>\n",
       "      <td>496.0</td>\n",
       "      <td>2.802260</td>\n",
       "      <td>37.85</td>\n",
       "      <td>-122.24</td>\n",
       "      <td>3.521</td>\n",
       "    </tr>\n",
       "    <tr>\n",
       "      <th>3</th>\n",
       "      <td>5.6431</td>\n",
       "      <td>52.0</td>\n",
       "      <td>5.817352</td>\n",
       "      <td>1.073059</td>\n",
       "      <td>558.0</td>\n",
       "      <td>2.547945</td>\n",
       "      <td>37.85</td>\n",
       "      <td>-122.25</td>\n",
       "      <td>3.413</td>\n",
       "    </tr>\n",
       "    <tr>\n",
       "      <th>4</th>\n",
       "      <td>3.8462</td>\n",
       "      <td>52.0</td>\n",
       "      <td>6.281853</td>\n",
       "      <td>1.081081</td>\n",
       "      <td>565.0</td>\n",
       "      <td>2.181467</td>\n",
       "      <td>37.85</td>\n",
       "      <td>-122.25</td>\n",
       "      <td>3.422</td>\n",
       "    </tr>\n",
       "  </tbody>\n",
       "</table>\n",
       "</div>"
      ],
      "text/plain": [
       "   MedInc  HouseAge  AveRooms  AveBedrms  Population  AveOccup  Latitude  \\\n",
       "0  8.3252      41.0  6.984127   1.023810       322.0  2.555556     37.88   \n",
       "1  8.3014      21.0  6.238137   0.971880      2401.0  2.109842     37.86   \n",
       "2  7.2574      52.0  8.288136   1.073446       496.0  2.802260     37.85   \n",
       "3  5.6431      52.0  5.817352   1.073059       558.0  2.547945     37.85   \n",
       "4  3.8462      52.0  6.281853   1.081081       565.0  2.181467     37.85   \n",
       "\n",
       "   Longitude  MedHouseVal  \n",
       "0    -122.23        4.526  \n",
       "1    -122.22        3.585  \n",
       "2    -122.24        3.521  \n",
       "3    -122.25        3.413  \n",
       "4    -122.25        3.422  "
      ]
     },
     "execution_count": 5,
     "metadata": {},
     "output_type": "execute_result"
    }
   ],
   "source": [
    "train.head()"
   ]
  },
  {
   "cell_type": "code",
   "execution_count": 6,
   "id": "9be94a2a",
   "metadata": {
    "execution": {
     "iopub.execute_input": "2023-01-09T15:09:12.260304Z",
     "iopub.status.busy": "2023-01-09T15:09:12.259234Z",
     "iopub.status.idle": "2023-01-09T15:09:12.337365Z",
     "shell.execute_reply": "2023-01-09T15:09:12.336012Z"
    },
    "papermill": {
     "duration": 0.090258,
     "end_time": "2023-01-09T15:09:12.339687",
     "exception": false,
     "start_time": "2023-01-09T15:09:12.249429",
     "status": "completed"
    },
    "tags": []
   },
   "outputs": [
    {
     "data": {
      "text/html": [
       "<div>\n",
       "<style scoped>\n",
       "    .dataframe tbody tr th:only-of-type {\n",
       "        vertical-align: middle;\n",
       "    }\n",
       "\n",
       "    .dataframe tbody tr th {\n",
       "        vertical-align: top;\n",
       "    }\n",
       "\n",
       "    .dataframe thead th {\n",
       "        text-align: right;\n",
       "    }\n",
       "</style>\n",
       "<table border=\"1\" class=\"dataframe\">\n",
       "  <thead>\n",
       "    <tr style=\"text-align: right;\">\n",
       "      <th></th>\n",
       "      <th>MedInc</th>\n",
       "      <th>HouseAge</th>\n",
       "      <th>AveRooms</th>\n",
       "      <th>AveBedrms</th>\n",
       "      <th>Population</th>\n",
       "      <th>AveOccup</th>\n",
       "      <th>Latitude</th>\n",
       "      <th>Longitude</th>\n",
       "      <th>MedHouseVal</th>\n",
       "    </tr>\n",
       "  </thead>\n",
       "  <tbody>\n",
       "    <tr>\n",
       "      <th>count</th>\n",
       "      <td>57777.000000</td>\n",
       "      <td>57777.000000</td>\n",
       "      <td>57777.000000</td>\n",
       "      <td>57777.000000</td>\n",
       "      <td>57777.000000</td>\n",
       "      <td>57777.000000</td>\n",
       "      <td>57777.000000</td>\n",
       "      <td>57777.000000</td>\n",
       "      <td>57777.000000</td>\n",
       "    </tr>\n",
       "    <tr>\n",
       "      <th>mean</th>\n",
       "      <td>3.858046</td>\n",
       "      <td>26.979559</td>\n",
       "      <td>5.258104</td>\n",
       "      <td>1.074519</td>\n",
       "      <td>1576.720610</td>\n",
       "      <td>2.916770</td>\n",
       "      <td>35.592118</td>\n",
       "      <td>-119.559822</td>\n",
       "      <td>2.075753</td>\n",
       "    </tr>\n",
       "    <tr>\n",
       "      <th>std</th>\n",
       "      <td>1.838287</td>\n",
       "      <td>12.374508</td>\n",
       "      <td>1.771502</td>\n",
       "      <td>0.294086</td>\n",
       "      <td>1249.494223</td>\n",
       "      <td>6.575793</td>\n",
       "      <td>2.102374</td>\n",
       "      <td>1.984615</td>\n",
       "      <td>1.156927</td>\n",
       "    </tr>\n",
       "    <tr>\n",
       "      <th>min</th>\n",
       "      <td>0.499900</td>\n",
       "      <td>1.000000</td>\n",
       "      <td>0.846154</td>\n",
       "      <td>0.333333</td>\n",
       "      <td>3.000000</td>\n",
       "      <td>0.692308</td>\n",
       "      <td>32.540000</td>\n",
       "      <td>-124.350000</td>\n",
       "      <td>0.149990</td>\n",
       "    </tr>\n",
       "    <tr>\n",
       "      <th>25%</th>\n",
       "      <td>2.588200</td>\n",
       "      <td>17.000000</td>\n",
       "      <td>4.381443</td>\n",
       "      <td>1.015306</td>\n",
       "      <td>882.000000</td>\n",
       "      <td>2.407625</td>\n",
       "      <td>33.930000</td>\n",
       "      <td>-121.800000</td>\n",
       "      <td>1.203000</td>\n",
       "    </tr>\n",
       "    <tr>\n",
       "      <th>50%</th>\n",
       "      <td>3.521400</td>\n",
       "      <td>26.000000</td>\n",
       "      <td>5.126761</td>\n",
       "      <td>1.052941</td>\n",
       "      <td>1316.000000</td>\n",
       "      <td>2.769231</td>\n",
       "      <td>34.210000</td>\n",
       "      <td>-118.460000</td>\n",
       "      <td>1.804000</td>\n",
       "    </tr>\n",
       "    <tr>\n",
       "      <th>75%</th>\n",
       "      <td>4.710900</td>\n",
       "      <td>36.000000</td>\n",
       "      <td>5.936031</td>\n",
       "      <td>1.091837</td>\n",
       "      <td>1815.000000</td>\n",
       "      <td>3.179673</td>\n",
       "      <td>37.700000</td>\n",
       "      <td>-118.020000</td>\n",
       "      <td>2.657000</td>\n",
       "    </tr>\n",
       "    <tr>\n",
       "      <th>max</th>\n",
       "      <td>15.000100</td>\n",
       "      <td>52.000000</td>\n",
       "      <td>141.909091</td>\n",
       "      <td>34.066667</td>\n",
       "      <td>35682.000000</td>\n",
       "      <td>1243.333333</td>\n",
       "      <td>41.950000</td>\n",
       "      <td>-114.310000</td>\n",
       "      <td>5.000010</td>\n",
       "    </tr>\n",
       "  </tbody>\n",
       "</table>\n",
       "</div>"
      ],
      "text/plain": [
       "             MedInc      HouseAge      AveRooms     AveBedrms    Population  \\\n",
       "count  57777.000000  57777.000000  57777.000000  57777.000000  57777.000000   \n",
       "mean       3.858046     26.979559      5.258104      1.074519   1576.720610   \n",
       "std        1.838287     12.374508      1.771502      0.294086   1249.494223   \n",
       "min        0.499900      1.000000      0.846154      0.333333      3.000000   \n",
       "25%        2.588200     17.000000      4.381443      1.015306    882.000000   \n",
       "50%        3.521400     26.000000      5.126761      1.052941   1316.000000   \n",
       "75%        4.710900     36.000000      5.936031      1.091837   1815.000000   \n",
       "max       15.000100     52.000000    141.909091     34.066667  35682.000000   \n",
       "\n",
       "           AveOccup      Latitude     Longitude   MedHouseVal  \n",
       "count  57777.000000  57777.000000  57777.000000  57777.000000  \n",
       "mean       2.916770     35.592118   -119.559822      2.075753  \n",
       "std        6.575793      2.102374      1.984615      1.156927  \n",
       "min        0.692308     32.540000   -124.350000      0.149990  \n",
       "25%        2.407625     33.930000   -121.800000      1.203000  \n",
       "50%        2.769231     34.210000   -118.460000      1.804000  \n",
       "75%        3.179673     37.700000   -118.020000      2.657000  \n",
       "max     1243.333333     41.950000   -114.310000      5.000010  "
      ]
     },
     "execution_count": 6,
     "metadata": {},
     "output_type": "execute_result"
    }
   ],
   "source": [
    "train.describe()"
   ]
  },
  {
   "cell_type": "code",
   "execution_count": 7,
   "id": "1b01be5c",
   "metadata": {
    "execution": {
     "iopub.execute_input": "2023-01-09T15:09:12.358453Z",
     "iopub.status.busy": "2023-01-09T15:09:12.357658Z",
     "iopub.status.idle": "2023-01-09T15:09:13.861010Z",
     "shell.execute_reply": "2023-01-09T15:09:13.859519Z"
    },
    "papermill": {
     "duration": 1.516853,
     "end_time": "2023-01-09T15:09:13.864672",
     "exception": false,
     "start_time": "2023-01-09T15:09:12.347819",
     "status": "completed"
    },
    "tags": []
   },
   "outputs": [
    {
     "data": {
      "text/plain": [
       "MedHouseVal    1.000000\n",
       "MedInc         0.696527\n",
       "AveRooms       0.236013\n",
       "Latitude       0.126553\n",
       "HouseAge       0.103085\n",
       "Longitude      0.052846\n",
       "AveBedrms      0.041327\n",
       "Population     0.033360\n",
       "AveOccup       0.026262\n",
       "dtype: float64"
      ]
     },
     "execution_count": 7,
     "metadata": {},
     "output_type": "execute_result"
    },
    {
     "data": {
      "image/png": "[encoded data removed]",
      "text/plain": [
       "<Figure size 1080x576 with 9 Axes>"
      ]
     },
     "metadata": {
      "needs_background": "light"
     },
     "output_type": "display_data"
    }
   ],
   "source": [
    "train.hist(figsize=(15, 8))\n",
    "train.corrwith(train[conf.target]).abs().sort_values(ascending=False)"
   ]
  },
  {
   "cell_type": "markdown",
   "id": "177afa8e",
   "metadata": {
    "papermill": {
     "duration": 0.008226,
     "end_time": "2023-01-09T15:09:13.881590",
     "exception": false,
     "start_time": "2023-01-09T15:09:13.873364",
     "status": "completed"
    },
    "tags": []
   },
   "source": [
    "# Outliers work"
   ]
  },
  {
   "cell_type": "code",
   "execution_count": 8,
   "id": "88612a13",
   "metadata": {
    "execution": {
     "iopub.execute_input": "2023-01-09T15:09:13.900782Z",
     "iopub.status.busy": "2023-01-09T15:09:13.899961Z",
     "iopub.status.idle": "2023-01-09T15:09:13.908666Z",
     "shell.execute_reply": "2023-01-09T15:09:13.907170Z"
    },
    "papermill": {
     "duration": 0.021635,
     "end_time": "2023-01-09T15:09:13.911612",
     "exception": false,
     "start_time": "2023-01-09T15:09:13.889977",
     "status": "completed"
    },
    "tags": []
   },
   "outputs": [],
   "source": [
    "def outliers(x):\n",
    "    if conf.remove_out:\n",
    "        x = x[x.MedInc < 10]\n",
    "        x = x[x.AveRooms < 10]\n",
    "        x = x[x.AveBedrms < 3]\n",
    "        x = x[x.Population < 5000]\n",
    "        x = x[x.AveOccup < 5]\n",
    "    if conf.clip_out:\n",
    "        x.MedInc = x.MedInc.clip(0, 7)\n",
    "        x.AveRooms = x.AveRooms.clip(0, 7)\n",
    "        x.AveBedrms = x.AveBedrms.clip(0, 2)\n",
    "        x.Population = x.Population.clip(0, 3000)\n",
    "        x.AveOccup = x.AveOccup.clip(0, 4)\n",
    "    return x"
   ]
  },
  {
   "cell_type": "code",
   "execution_count": 9,
   "id": "d7a7f632",
   "metadata": {
    "execution": {
     "iopub.execute_input": "2023-01-09T15:09:13.932450Z",
     "iopub.status.busy": "2023-01-09T15:09:13.931612Z",
     "iopub.status.idle": "2023-01-09T15:09:13.936919Z",
     "shell.execute_reply": "2023-01-09T15:09:13.935909Z"
    },
    "papermill": {
     "duration": 0.017911,
     "end_time": "2023-01-09T15:09:13.939401",
     "exception": false,
     "start_time": "2023-01-09T15:09:13.921490",
     "status": "completed"
    },
    "tags": []
   },
   "outputs": [],
   "source": [
    "train = outliers(train)  "
   ]
  },
  {
   "cell_type": "markdown",
   "id": "f454bde5",
   "metadata": {
    "papermill": {
     "duration": 0.007767,
     "end_time": "2023-01-09T15:09:13.955462",
     "exception": false,
     "start_time": "2023-01-09T15:09:13.947695",
     "status": "completed"
    },
    "tags": []
   },
   "source": [
    "Look at changes if we do something above"
   ]
  },
  {
   "cell_type": "code",
   "execution_count": 10,
   "id": "6c587ae1",
   "metadata": {
    "execution": {
     "iopub.execute_input": "2023-01-09T15:09:13.973844Z",
     "iopub.status.busy": "2023-01-09T15:09:13.973391Z",
     "iopub.status.idle": "2023-01-09T15:09:13.979830Z",
     "shell.execute_reply": "2023-01-09T15:09:13.978478Z"
    },
    "papermill": {
     "duration": 0.018665,
     "end_time": "2023-01-09T15:09:13.982338",
     "exception": false,
     "start_time": "2023-01-09T15:09:13.963673",
     "status": "completed"
    },
    "tags": []
   },
   "outputs": [],
   "source": [
    "if conf.remove_out or conf.clip_out:\n",
    "    train.hist(figsize=(15, 8))\n",
    "    print(train.corrwith(x_train[conf.target]).abs().sort_values(ascending=False))"
   ]
  },
  {
   "cell_type": "markdown",
   "id": "05a51265",
   "metadata": {
    "papermill": {
     "duration": 0.008154,
     "end_time": "2023-01-09T15:09:13.998797",
     "exception": false,
     "start_time": "2023-01-09T15:09:13.990643",
     "status": "completed"
    },
    "tags": []
   },
   "source": [
    "# Prepare data"
   ]
  },
  {
   "cell_type": "code",
   "execution_count": 11,
   "id": "005ff140",
   "metadata": {
    "execution": {
     "iopub.execute_input": "2023-01-09T15:09:14.017674Z",
     "iopub.status.busy": "2023-01-09T15:09:14.016806Z",
     "iopub.status.idle": "2023-01-09T15:09:14.043273Z",
     "shell.execute_reply": "2023-01-09T15:09:14.042179Z"
    },
    "papermill": {
     "duration": 0.038736,
     "end_time": "2023-01-09T15:09:14.045910",
     "exception": false,
     "start_time": "2023-01-09T15:09:14.007174",
     "status": "completed"
    },
    "tags": []
   },
   "outputs": [],
   "source": [
    "pipe = sklearn.preprocessing.MinMaxScaler() if conf.min_max else sklearn.preprocessing.StandardScaler()\n",
    "x_full = train.copy()\n",
    "y_full = x_full.pop(conf.target).to_numpy()\n",
    "x_full = pipe.fit_transform(x_full)\n",
    "x_test = pipe.transform(test_full)"
   ]
  },
  {
   "cell_type": "markdown",
   "id": "7b3969d8",
   "metadata": {
    "papermill": {
     "duration": 0.008015,
     "end_time": "2023-01-09T15:09:14.062574",
     "exception": false,
     "start_time": "2023-01-09T15:09:14.054559",
     "status": "completed"
    },
    "tags": []
   },
   "source": [
    "# Model"
   ]
  },
  {
   "cell_type": "code",
   "execution_count": 12,
   "id": "32ea5601",
   "metadata": {
    "execution": {
     "iopub.execute_input": "2023-01-09T15:09:14.081617Z",
     "iopub.status.busy": "2023-01-09T15:09:14.080673Z",
     "iopub.status.idle": "2023-01-09T15:09:14.089551Z",
     "shell.execute_reply": "2023-01-09T15:09:14.088241Z"
    },
    "papermill": {
     "duration": 0.020945,
     "end_time": "2023-01-09T15:09:14.091881",
     "exception": false,
     "start_time": "2023-01-09T15:09:14.070936",
     "status": "completed"
    },
    "tags": []
   },
   "outputs": [],
   "source": [
    "def get_model():\n",
    "    l = 0.0001\n",
    "    model = tf.keras.models.Sequential([\n",
    "        layers.Dense(256, activation='relu', kernel_regularizer=reg.l2(l)),\n",
    "        layers.Dense(128, activation='relu', kernel_regularizer=reg.l2(l)),\n",
    "        layers.Dense(64, activation='relu', kernel_regularizer=reg.l2(l)),\n",
    "        layers.Dense(1, activation='sigmoid'),\n",
    "        layers.Rescaling(scale=5.0),\n",
    "    ])\n",
    "    model.compile(\n",
    "        optimizer=tf.keras.optimizers.Adam(conf.init_lr),\n",
    "        loss=\"mse\",\n",
    "        metrics=tf.keras.metrics.RootMeanSquaredError(name=\"rmse\")\n",
    "    )\n",
    "    return model"
   ]
  },
  {
   "cell_type": "markdown",
   "id": "0c534c84",
   "metadata": {
    "papermill": {
     "duration": 0.007873,
     "end_time": "2023-01-09T15:09:14.107984",
     "exception": false,
     "start_time": "2023-01-09T15:09:14.100111",
     "status": "completed"
    },
    "tags": []
   },
   "source": [
    "Callbacks"
   ]
  },
  {
   "cell_type": "code",
   "execution_count": 13,
   "id": "fc577b58",
   "metadata": {
    "execution": {
     "iopub.execute_input": "2023-01-09T15:09:14.126577Z",
     "iopub.status.busy": "2023-01-09T15:09:14.126189Z",
     "iopub.status.idle": "2023-01-09T15:09:14.132436Z",
     "shell.execute_reply": "2023-01-09T15:09:14.131316Z"
    },
    "papermill": {
     "duration": 0.017915,
     "end_time": "2023-01-09T15:09:14.134585",
     "exception": false,
     "start_time": "2023-01-09T15:09:14.116670",
     "status": "completed"
    },
    "tags": []
   },
   "outputs": [],
   "source": [
    "plat = tf.keras.callbacks.ReduceLROnPlateau(patience=3, factor=0.5, min_lr=1e-6, min_delta=0.0001, verbose = conf.verbose)\n",
    "es = tf.keras.callbacks.EarlyStopping(patience=7, min_delta=0.0001, verbose = conf.verbose, restore_best_weights = True)"
   ]
  },
  {
   "cell_type": "markdown",
   "id": "8b4d1cc8",
   "metadata": {
    "papermill": {
     "duration": 0.007831,
     "end_time": "2023-01-09T15:09:14.150599",
     "exception": false,
     "start_time": "2023-01-09T15:09:14.142768",
     "status": "completed"
    },
    "tags": []
   },
   "source": [
    "# Train"
   ]
  },
  {
   "cell_type": "code",
   "execution_count": 14,
   "id": "c49e4b7d",
   "metadata": {
    "execution": {
     "iopub.execute_input": "2023-01-09T15:09:14.169399Z",
     "iopub.status.busy": "2023-01-09T15:09:14.168961Z",
     "iopub.status.idle": "2023-01-09T15:28:07.635985Z",
     "shell.execute_reply": "2023-01-09T15:28:07.634673Z"
    },
    "papermill": {
     "duration": 1133.47975,
     "end_time": "2023-01-09T15:28:07.638851",
     "exception": false,
     "start_time": "2023-01-09T15:09:14.159101",
     "status": "completed"
    },
    "tags": []
   },
   "outputs": [
    {
     "name": "stderr",
     "output_type": "stream",
     "text": [
      "2023-01-09 15:09:14.223528: I tensorflow/core/common_runtime/process_util.cc:146] Creating new thread pool with default inter op setting: 2. Tune using inter_op_parallelism_threads for best performance.\n",
      "2023-01-09 15:09:14.360278: I tensorflow/compiler/mlir/mlir_graph_optimization_pass.cc:185] None of the MLIR Optimization Passes are enabled (registered 2)\n"
     ]
    },
    {
     "name": "stdout",
     "output_type": "stream",
     "text": [
      "Best val rmse: 0.5519\n",
      "Best val rmse: 0.5539\n",
      "Best val rmse: 0.5438\n",
      "Best val rmse: 0.5415\n",
      "Best val rmse: 0.5828\n",
      "Best val rmse: 0.5352\n",
      "Best val rmse: 0.5580\n",
      "Best val rmse: 0.5716\n",
      "Best val rmse: 0.5414\n",
      "Best val rmse: 0.5551\n",
      "mean scores:   0.5536\n"
     ]
    }
   ],
   "source": [
    "models = []\n",
    "scores = []\n",
    "\n",
    "for train_index, val_index in KFold(n_splits=10, random_state=conf.random, shuffle=True).split(x_full):\n",
    "    x_train, x_val = x_full[train_index], x_full[val_index]\n",
    "    y_train, y_val = y_full[train_index], y_full[val_index]\n",
    "    \n",
    "    model = get_model()\n",
    "    h = model.fit(\n",
    "        x_train, y_train,\n",
    "        validation_data = (x_val, y_val),\n",
    "        epochs = 100,\n",
    "        batch_size = conf.batch_size,\n",
    "        callbacks = [plat, es],\n",
    "        verbose = conf.verbose,\n",
    "    ).history    \n",
    "    print(f\"Best val rmse: {get_best(h, met='rmse')[0]:.4f}\")\n",
    "    \n",
    "    s = mean_squared_error(y_val, model.predict(x_val), squared=False)\n",
    "    scores.append(s)\n",
    "    models.append((s, model))\n",
    "print(f'mean scores:   {np.mean(scores):.4f}')"
   ]
  },
  {
   "cell_type": "markdown",
   "id": "69793153",
   "metadata": {
    "papermill": {
     "duration": 0.008895,
     "end_time": "2023-01-09T15:28:07.656927",
     "exception": false,
     "start_time": "2023-01-09T15:28:07.648032",
     "status": "completed"
    },
    "tags": []
   },
   "source": [
    "# Plot history\n",
    "Vertical purple line means learning rate decrease"
   ]
  },
  {
   "cell_type": "code",
   "execution_count": 15,
   "id": "44b1c190",
   "metadata": {
    "execution": {
     "iopub.execute_input": "2023-01-09T15:28:07.678076Z",
     "iopub.status.busy": "2023-01-09T15:28:07.677139Z",
     "iopub.status.idle": "2023-01-09T15:28:08.048130Z",
     "shell.execute_reply": "2023-01-09T15:28:08.046908Z"
    },
    "papermill": {
     "duration": 0.384166,
     "end_time": "2023-01-09T15:28:08.050662",
     "exception": false,
     "start_time": "2023-01-09T15:28:07.666496",
     "status": "completed"
    },
    "tags": []
   },
   "outputs": [
    {
     "data": {
      "image/png": "[encoded data removed]",
      "text/plain": [
       "<Figure size 864x576 with 1 Axes>"
      ]
     },
     "metadata": {
      "needs_background": "light"
     },
     "output_type": "display_data"
    }
   ],
   "source": [
    "plot_history(h, met=\"rmse\")"
   ]
  },
  {
   "cell_type": "code",
   "execution_count": 16,
   "id": "946af408",
   "metadata": {
    "execution": {
     "iopub.execute_input": "2023-01-09T15:28:08.072923Z",
     "iopub.status.busy": "2023-01-09T15:28:08.072479Z",
     "iopub.status.idle": "2023-01-09T15:28:12.572507Z",
     "shell.execute_reply": "2023-01-09T15:28:12.571212Z"
    },
    "papermill": {
     "duration": 4.513937,
     "end_time": "2023-01-09T15:28:12.575385",
     "exception": false,
     "start_time": "2023-01-09T15:28:08.061448",
     "status": "completed"
    },
    "tags": []
   },
   "outputs": [],
   "source": [
    "test_preds = []\n",
    "\n",
    "bests = sorted(models)[:5] if conf.best_only else models\n",
    "\n",
    "for s, m in bests:\n",
    "    preds = m.predict(x_test)\n",
    "    test_preds.append(preds)"
   ]
  },
  {
   "cell_type": "code",
   "execution_count": 17,
   "id": "373deafb",
   "metadata": {
    "execution": {
     "iopub.execute_input": "2023-01-09T15:28:12.598833Z",
     "iopub.status.busy": "2023-01-09T15:28:12.598397Z",
     "iopub.status.idle": "2023-01-09T15:28:12.607511Z",
     "shell.execute_reply": "2023-01-09T15:28:12.606481Z"
    },
    "papermill": {
     "duration": 0.023624,
     "end_time": "2023-01-09T15:28:12.609891",
     "exception": false,
     "start_time": "2023-01-09T15:28:12.586267",
     "status": "completed"
    },
    "tags": []
   },
   "outputs": [
    {
     "data": {
      "text/plain": [
       "array([0.6249412, 1.104809 , 3.7111008, ..., 1.1482439, 3.7851639,\n",
       "       3.06952  ], dtype=float32)"
      ]
     },
     "execution_count": 17,
     "metadata": {},
     "output_type": "execute_result"
    }
   ],
   "source": [
    "test_preds = np.stack(test_preds).mean(0).reshape(-1)\n",
    "test_preds"
   ]
  },
  {
   "cell_type": "code",
   "execution_count": 18,
   "id": "eb1314cf",
   "metadata": {
    "execution": {
     "iopub.execute_input": "2023-01-09T15:28:12.632387Z",
     "iopub.status.busy": "2023-01-09T15:28:12.631450Z",
     "iopub.status.idle": "2023-01-09T15:28:13.812458Z",
     "shell.execute_reply": "2023-01-09T15:28:13.811170Z"
    },
    "papermill": {
     "duration": 1.195127,
     "end_time": "2023-01-09T15:28:13.814995",
     "exception": false,
     "start_time": "2023-01-09T15:28:12.619868",
     "status": "completed"
    },
    "tags": []
   },
   "outputs": [
    {
     "data": {
      "text/html": [
       "<div>\n",
       "<style scoped>\n",
       "    .dataframe tbody tr th:only-of-type {\n",
       "        vertical-align: middle;\n",
       "    }\n",
       "\n",
       "    .dataframe tbody tr th {\n",
       "        vertical-align: top;\n",
       "    }\n",
       "\n",
       "    .dataframe thead th {\n",
       "        text-align: right;\n",
       "    }\n",
       "</style>\n",
       "<table border=\"1\" class=\"dataframe\">\n",
       "  <thead>\n",
       "    <tr style=\"text-align: right;\">\n",
       "      <th></th>\n",
       "      <th>MedHouseVal</th>\n",
       "    </tr>\n",
       "    <tr>\n",
       "      <th>id</th>\n",
       "      <th></th>\n",
       "    </tr>\n",
       "  </thead>\n",
       "  <tbody>\n",
       "    <tr>\n",
       "      <th>37137</th>\n",
       "      <td>0.624941</td>\n",
       "    </tr>\n",
       "    <tr>\n",
       "      <th>37138</th>\n",
       "      <td>1.104809</td>\n",
       "    </tr>\n",
       "    <tr>\n",
       "      <th>37139</th>\n",
       "      <td>3.711101</td>\n",
       "    </tr>\n",
       "    <tr>\n",
       "      <th>37140</th>\n",
       "      <td>3.844899</td>\n",
       "    </tr>\n",
       "    <tr>\n",
       "      <th>37141</th>\n",
       "      <td>2.552615</td>\n",
       "    </tr>\n",
       "  </tbody>\n",
       "</table>\n",
       "</div>"
      ],
      "text/plain": [
       "       MedHouseVal\n",
       "id                \n",
       "37137     0.624941\n",
       "37138     1.104809\n",
       "37139     3.711101\n",
       "37140     3.844899\n",
       "37141     2.552615"
      ]
     },
     "execution_count": 18,
     "metadata": {},
     "output_type": "execute_result"
    }
   ],
   "source": [
    "p = model.predict(x_test)\n",
    "ss = pd.read_csv(\"/kaggle/input/playground-series-s3e1/sample_submission.csv\", index_col=conf.index)\n",
    "ss[conf.target] = test_preds\n",
    "ss.to_csv(\"submission.csv\")\n",
    "ss.head()"
   ]
  }
 ],
 "metadata": {
  "kernelspec": {
   "display_name": "Python 3",
   "language": "python",
   "name": "python3"
  },
  "language_info": {
   "codemirror_mode": {
    "name": "ipython",
    "version": 3
   },
   "file_extension": ".py",
   "mimetype": "text/x-python",
   "name": "python",
   "nbconvert_exporter": "python",
   "pygments_lexer": "ipython3",
   "version": "3.7.12"
  },
  "papermill": {
   "default_parameters": {},
   "duration": 1162.613312,
   "end_time": "2023-01-09T15:28:16.496134",
   "environment_variables": {},
   "exception": null,
   "input_path": "__notebook__.ipynb",
   "output_path": "__notebook__.ipynb",
   "parameters": {},
   "start_time": "2023-01-09T15:08:53.882822",
   "version": "2.3.4"
  }
 },
 "nbformat": 4,
 "nbformat_minor": 5
}

{
 "cells": [
  {
   "cell_type": "markdown",
   "id": "cd537e50",
   "metadata": {
    "papermill": {
     "duration": 0.007055,
     "end_time": "2023-01-08T10:07:27.817510",
     "exception": false,
     "start_time": "2023-01-08T10:07:27.810455",
     "status": "completed"
    },
    "tags": []
   },
   "source": [
    "# Neural network for regression with PyTorch!"
   ]
  },
  {
   "cell_type": "code",
   "execution_count": 45,
   "id": "ec0aa21a",
   "metadata": {
    "_kg_hide-input": true,
    "execution": {
     "iopub.execute_input": "2023-01-08T10:07:27.832015Z",
     "iopub.status.busy": "2023-01-08T10:07:27.831051Z",
     "iopub.status.idle": "2023-01-08T10:07:32.593745Z",
     "shell.execute_reply": "2023-01-08T10:07:32.592811Z"
    },
    "papermill": {
     "duration": 4.773024,
     "end_time": "2023-01-08T10:07:32.596370",
     "exception": false,
     "start_time": "2023-01-08T10:07:27.823346",
     "status": "completed"
    },
    "tags": []
   },
   "outputs": [],
   "source": [
    "import torch\n",
    "import torch.nn as nn\n",
    "import pandas as pd\n",
    "\n",
    "from torch.utils.data import DataLoader\n",
    "from torch.utils.data import Dataset\n",
    "\n",
    "from sklearn.datasets import fetch_california_housing\n",
    "\n",
    "from sklearn.metrics import mean_squared_error"
   ]
  },
  {
   "cell_type": "markdown",
   "id": "d5ec4f36",
   "metadata": {
    "papermill": {
     "duration": 0.004579,
     "end_time": "2023-01-08T10:07:32.606382",
     "exception": false,
     "start_time": "2023-01-08T10:07:32.601803",
     "status": "completed"
    },
    "tags": []
   },
   "source": [
    "Show device"
   ]
  },
  {
   "cell_type": "code",
   "execution_count": 46,
   "id": "ae2c589b",
   "metadata": {
    "execution": {
     "iopub.execute_input": "2023-01-08T10:07:32.619291Z",
     "iopub.status.busy": "2023-01-08T10:07:32.618119Z",
     "iopub.status.idle": "2023-01-08T10:07:32.740486Z",
     "shell.execute_reply": "2023-01-08T10:07:32.739492Z"
    },
    "papermill": {
     "duration": 0.131516,
     "end_time": "2023-01-08T10:07:32.743009",
     "exception": false,
     "start_time": "2023-01-08T10:07:32.611493",
     "status": "completed"
    },
    "tags": []
   },
   "outputs": [
    {
     "name": "stdout",
     "output_type": "stream",
     "text": [
      "Using cpu device\n"
     ]
    }
   ],
   "source": [
    "device = \"cuda\" if torch.cuda.is_available() else \"cpu\"\n",
    "# device = torch.device(\"mps\") if torch.backends.mps.is_available() else torch.device(\"cpu\")\n",
    "print(f\"Using {device} device\")"
   ]
  },
  {
   "cell_type": "markdown",
   "id": "901acc3a",
   "metadata": {
    "papermill": {
     "duration": 0.004769,
     "end_time": "2023-01-08T10:07:32.753243",
     "exception": false,
     "start_time": "2023-01-08T10:07:32.748474",
     "status": "completed"
    },
    "tags": []
   },
   "source": [
    "# Load data"
   ]
  },
  {
   "cell_type": "code",
   "execution_count": 47,
   "id": "53c67248",
   "metadata": {
    "execution": {
     "iopub.execute_input": "2023-01-08T10:07:32.764965Z",
     "iopub.status.busy": "2023-01-08T10:07:32.764118Z",
     "iopub.status.idle": "2023-01-08T10:07:32.770125Z",
     "shell.execute_reply": "2023-01-08T10:07:32.769527Z"
    },
    "papermill": {
     "duration": 0.013552,
     "end_time": "2023-01-08T10:07:32.771897",
     "exception": false,
     "start_time": "2023-01-08T10:07:32.758345",
     "status": "completed"
    },
    "tags": []
   },
   "outputs": [],
   "source": [
    "BASE_PATH = '.'\n",
    "\n",
    "def load_data():\n",
    "    \"\"\"\n",
    "    Load train, test and validate data frames\n",
    "    \"\"\"\n",
    "    train_df = pd.read_csv(f'{BASE_PATH}/train.csv', index_col='id')\n",
    "    test_df = pd.read_csv(f'{BASE_PATH}/test.csv', index_col='id')\n",
    "\n",
    "    bunch = fetch_california_housing(as_frame=True)\n",
    "    validate_df = bunch['frame']\n",
    "\n",
    "    train_df = pd.concat([train_df, validate_df])\n",
    "\n",
    "    return train_df, test_df, validate_df"
   ]
  },
  {
   "cell_type": "code",
   "execution_count": 48,
   "id": "4d85f091",
   "metadata": {
    "execution": {
     "iopub.execute_input": "2023-01-08T10:07:32.783777Z",
     "iopub.status.busy": "2023-01-08T10:07:32.782400Z",
     "iopub.status.idle": "2023-01-08T10:07:34.784348Z",
     "shell.execute_reply": "2023-01-08T10:07:34.783265Z"
    },
    "papermill": {
     "duration": 2.010297,
     "end_time": "2023-01-08T10:07:34.786896",
     "exception": false,
     "start_time": "2023-01-08T10:07:32.776599",
     "status": "completed"
    },
    "tags": []
   },
   "outputs": [],
   "source": [
    "train_df, test_df, validate_df = load_data()"
   ]
  },
  {
   "cell_type": "code",
   "execution_count": 49,
   "id": "f9dd57a3",
   "metadata": {
    "execution": {
     "iopub.execute_input": "2023-01-08T10:07:34.799691Z",
     "iopub.status.busy": "2023-01-08T10:07:34.799376Z",
     "iopub.status.idle": "2023-01-08T10:07:34.804916Z",
     "shell.execute_reply": "2023-01-08T10:07:34.803702Z"
    },
    "papermill": {
     "duration": 0.016709,
     "end_time": "2023-01-08T10:07:34.809561",
     "exception": false,
     "start_time": "2023-01-08T10:07:34.792852",
     "status": "completed"
    },
    "tags": []
   },
   "outputs": [
    {
     "name": "stdout",
     "output_type": "stream",
     "text": [
      "(57777, 9)\n",
      "(20640, 9)\n",
      "(24759, 8)\n"
     ]
    }
   ],
   "source": [
    "print(train_df.shape)\n",
    "print(validate_df.shape)\n",
    "print(test_df.shape)"
   ]
  },
  {
   "cell_type": "markdown",
   "id": "53cb2830",
   "metadata": {
    "papermill": {
     "duration": 0.005346,
     "end_time": "2023-01-08T10:07:34.822206",
     "exception": false,
     "start_time": "2023-01-08T10:07:34.816860",
     "status": "completed"
    },
    "tags": []
   },
   "source": [
    "# Create custom Dataset"
   ]
  },
  {
   "cell_type": "code",
   "execution_count": 50,
   "id": "e1469190",
   "metadata": {
    "execution": {
     "iopub.execute_input": "2023-01-08T10:07:34.835083Z",
     "iopub.status.busy": "2023-01-08T10:07:34.834581Z",
     "iopub.status.idle": "2023-01-08T10:07:34.841612Z",
     "shell.execute_reply": "2023-01-08T10:07:34.840576Z"
    },
    "papermill": {
     "duration": 0.015713,
     "end_time": "2023-01-08T10:07:34.843668",
     "exception": false,
     "start_time": "2023-01-08T10:07:34.827955",
     "status": "completed"
    },
    "tags": []
   },
   "outputs": [],
   "source": [
    "class HousingDataset(Dataset):\n",
    "\n",
    "    def __init__(self, x, y=None):\n",
    "        self.x = torch.tensor(x.values, dtype=torch.float32).to(device)\n",
    "        self.y = torch.tensor(y.values, dtype=torch.float32).to(device) if y is not None else None\n",
    "\n",
    "    def __len__(self):\n",
    "        return len(self.x)\n",
    "\n",
    "    def __getitem__(self, idx):\n",
    "        return self.x[idx], self.y[idx] if self.y is not None else torch.empty((1, 1), dtype=torch.float32)"
   ]
  },
  {
   "cell_type": "code",
   "execution_count": 51,
   "id": "9176fe89",
   "metadata": {
    "execution": {
     "iopub.execute_input": "2023-01-08T10:07:34.856120Z",
     "iopub.status.busy": "2023-01-08T10:07:34.855726Z",
     "iopub.status.idle": "2023-01-08T10:07:39.121551Z",
     "shell.execute_reply": "2023-01-08T10:07:39.120298Z"
    },
    "papermill": {
     "duration": 4.274628,
     "end_time": "2023-01-08T10:07:39.123936",
     "exception": false,
     "start_time": "2023-01-08T10:07:34.849308",
     "status": "completed"
    },
    "tags": []
   },
   "outputs": [
    {
     "name": "stdout",
     "output_type": "stream",
     "text": [
      "Features count: 8\n"
     ]
    }
   ],
   "source": [
    "TARGET = 'MedHouseVal'\n",
    "FEATURES = [col for col in train_df.columns if col not in ['id', TARGET]]\n",
    "\n",
    "print(f'Features count: {len(FEATURES)}')\n",
    "\n",
    "train_dataset = HousingDataset(train_df[FEATURES], train_df[TARGET])\n",
    "test_dataset = HousingDataset(test_df[FEATURES])\n",
    "validate_dataset = HousingDataset(validate_df[FEATURES], validate_df[TARGET])"
   ]
  },
  {
   "cell_type": "code",
   "execution_count": 52,
   "id": "668f53fb",
   "metadata": {
    "execution": {
     "iopub.execute_input": "2023-01-08T10:07:39.135867Z",
     "iopub.status.busy": "2023-01-08T10:07:39.135541Z",
     "iopub.status.idle": "2023-01-08T10:07:39.142283Z",
     "shell.execute_reply": "2023-01-08T10:07:39.141417Z"
    },
    "papermill": {
     "duration": 0.014909,
     "end_time": "2023-01-08T10:07:39.144262",
     "exception": false,
     "start_time": "2023-01-08T10:07:39.129353",
     "status": "completed"
    },
    "tags": []
   },
   "outputs": [],
   "source": [
    "batch_size = 32\n",
    "\n",
    "train_dataloader = DataLoader(train_dataset, batch_size=batch_size, shuffle=True, drop_last=False)\n",
    "test_dataloader = DataLoader(test_dataset, batch_size=batch_size, shuffle=False, drop_last=False)\n",
    "validate_dataloader = DataLoader(validate_dataset, batch_size=batch_size, shuffle=False, drop_last=False)"
   ]
  },
  {
   "cell_type": "markdown",
   "id": "34af12f3",
   "metadata": {
    "papermill": {
     "duration": 0.004745,
     "end_time": "2023-01-08T10:07:39.154162",
     "exception": false,
     "start_time": "2023-01-08T10:07:39.149417",
     "status": "completed"
    },
    "tags": []
   },
   "source": [
    "# Create network"
   ]
  },
  {
   "cell_type": "code",
   "execution_count": 53,
   "id": "07525fcd",
   "metadata": {
    "execution": {
     "iopub.execute_input": "2023-01-08T10:07:39.165283Z",
     "iopub.status.busy": "2023-01-08T10:07:39.165018Z",
     "iopub.status.idle": "2023-01-08T10:07:39.172311Z",
     "shell.execute_reply": "2023-01-08T10:07:39.171426Z"
    },
    "papermill": {
     "duration": 0.015066,
     "end_time": "2023-01-08T10:07:39.174307",
     "exception": false,
     "start_time": "2023-01-08T10:07:39.159241",
     "status": "completed"
    },
    "tags": []
   },
   "outputs": [],
   "source": [
    "class NeuralNetwork(nn.Module):\n",
    "    \"\"\"\n",
    "    Simple neural network\n",
    "    \"\"\"\n",
    "\n",
    "    def __init__(self):\n",
    "        super().__init__()\n",
    "\n",
    "        self.flatten = nn.Flatten()\n",
    "        self.head = nn.Sequential(\n",
    "            nn.Linear(8, 128),\n",
    "            nn.ReLU(),\n",
    "            nn.Linear(128, 256),\n",
    "            nn.ReLU(),\n",
    "            nn.Linear(256, 512),\n",
    "            nn.ReLU(),\n",
    "            nn.Linear(512, 1024),\n",
    "            nn.ReLU(),\n",
    "            nn.Dropout(0.1),\n",
    "            nn.Linear(1024, 512),\n",
    "            nn.ReLU(),\n",
    "            nn.Linear(512, 256),\n",
    "            nn.ReLU(),\n",
    "            nn.Linear(256, 128),\n",
    "            nn.ReLU(),\n",
    "            nn.Linear(128, 1),\n",
    "        )\n",
    "\n",
    "    def forward(self, x):\n",
    "        x = self.flatten(x)\n",
    "        logits = self.head(x)\n",
    "\n",
    "        return logits"
   ]
  },
  {
   "cell_type": "code",
   "execution_count": 54,
   "id": "316ad1ac",
   "metadata": {
    "execution": {
     "iopub.execute_input": "2023-01-08T10:07:39.185947Z",
     "iopub.status.busy": "2023-01-08T10:07:39.185188Z",
     "iopub.status.idle": "2023-01-08T10:07:39.189612Z",
     "shell.execute_reply": "2023-01-08T10:07:39.188799Z"
    },
    "papermill": {
     "duration": 0.012085,
     "end_time": "2023-01-08T10:07:39.191541",
     "exception": false,
     "start_time": "2023-01-08T10:07:39.179456",
     "status": "completed"
    },
    "tags": []
   },
   "outputs": [],
   "source": [
    "learning_rate = 1e-3\n",
    "epochs = 100"
   ]
  },
  {
   "cell_type": "code",
   "execution_count": 55,
   "id": "38f6aedc",
   "metadata": {
    "execution": {
     "iopub.execute_input": "2023-01-08T10:07:39.203289Z",
     "iopub.status.busy": "2023-01-08T10:07:39.202609Z",
     "iopub.status.idle": "2023-01-08T10:07:39.227007Z",
     "shell.execute_reply": "2023-01-08T10:07:39.226180Z"
    },
    "papermill": {
     "duration": 0.032574,
     "end_time": "2023-01-08T10:07:39.229093",
     "exception": false,
     "start_time": "2023-01-08T10:07:39.196519",
     "status": "completed"
    },
    "tags": []
   },
   "outputs": [],
   "source": [
    "model = NeuralNetwork().to(device)\n",
    "\n",
    "loss_fn = nn.MSELoss()\n",
    "optimizer = torch.optim.Adam(model.parameters(), lr=learning_rate)"
   ]
  },
  {
   "cell_type": "markdown",
   "id": "e0ac0182",
   "metadata": {
    "papermill": {
     "duration": 0.005107,
     "end_time": "2023-01-08T10:07:39.239183",
     "exception": false,
     "start_time": "2023-01-08T10:07:39.234076",
     "status": "completed"
    },
    "tags": []
   },
   "source": [
    "# Train model"
   ]
  },
  {
   "cell_type": "code",
   "execution_count": 56,
   "id": "e53c39b2",
   "metadata": {
    "execution": {
     "iopub.execute_input": "2023-01-08T10:07:39.250941Z",
     "iopub.status.busy": "2023-01-08T10:07:39.250188Z",
     "iopub.status.idle": "2023-01-08T10:07:39.262074Z",
     "shell.execute_reply": "2023-01-08T10:07:39.261273Z"
    },
    "papermill": {
     "duration": 0.019925,
     "end_time": "2023-01-08T10:07:39.264051",
     "exception": false,
     "start_time": "2023-01-08T10:07:39.244126",
     "status": "completed"
    },
    "tags": []
   },
   "outputs": [],
   "source": [
    "def train_loop(dataloader, model, loss_fn, optimizer):\n",
    "    \"\"\"\n",
    "    Optimization\n",
    "    \"\"\"\n",
    "    size = len(dataloader.dataset)\n",
    "    loss_history = []\n",
    "    score_history = []\n",
    "    \n",
    "    for batch, (X, y) in enumerate(dataloader):\n",
    "        # Compute prediction and loss\n",
    "        pred = model(X).squeeze(1)\n",
    "        loss = loss_fn(pred, y)\n",
    "\n",
    "        # Backpropagation\n",
    "        optimizer.zero_grad()\n",
    "        loss.backward()\n",
    "        torch.nn.utils.clip_grad_norm_(model.parameters(), 2.0)\n",
    "        optimizer.step()\n",
    "        \n",
    "        if batch % 1000 == 0:            \n",
    "            loss, current = loss.item(), batch * len(X)\n",
    "            loss_history.append(loss)\n",
    "\n",
    "            score = mean_squared_error(y.cpu().detach().numpy().tolist(), pred.cpu().detach().numpy().tolist(), squared=False)\n",
    "            score_history.append(score)\n",
    "        \n",
    "            print(f'loss: {loss:>7f}  [{current:>5d}/{size:>5d}]')\n",
    "            \n",
    "    return loss_history, score_history\n",
    "\n",
    "\n",
    "def validate_loop(dataloader, model, loss_fn):\n",
    "    \"\"\"\n",
    "    Evaluates\n",
    "    \"\"\"\n",
    "    num_batches = len(dataloader)\n",
    "    validate_loss = 0\n",
    "\n",
    "    final_predictions = []\n",
    "    final_targets = []\n",
    "    \n",
    "    model.eval()\n",
    "    with torch.no_grad():\n",
    "        for X, y in dataloader:\n",
    "            pred = model(X).squeeze(1)\n",
    "            validate_loss += loss_fn(pred, y).item()\n",
    "\n",
    "            final_predictions.extend(pred.cpu().detach().numpy().tolist())\n",
    "            final_targets.extend(y.cpu().detach().numpy().tolist())\n",
    "\n",
    "    validate_loss /= num_batches\n",
    "    score = mean_squared_error(final_targets, final_predictions, squared=False)\n",
    "    print(f\"Validate Error: \\n RMSE accuracy: {(100 * score):>0.1f}%, Avg loss: {validate_loss:>8f} \\n\")\n",
    "    \n",
    "def predict(dataloader, model):\n",
    "    \"\"\"\n",
    "    predict\n",
    "    \"\"\"\n",
    "    final_predictions = []\n",
    "\n",
    "    model.eval()\n",
    "    with torch.no_grad():\n",
    "        for X, _ in dataloader:\n",
    "            pred = model(X).squeeze(1)\n",
    "\n",
    "            final_predictions.extend(pred.cpu().detach().numpy().tolist())\n",
    "\n",
    "    return final_predictions"
   ]
  },
  {
   "cell_type": "code",
   "execution_count": 57,
   "id": "74f08280",
   "metadata": {
    "execution": {
     "iopub.execute_input": "2023-01-08T10:07:39.275592Z",
     "iopub.status.busy": "2023-01-08T10:07:39.274854Z",
     "iopub.status.idle": "2023-01-08T10:20:45.994829Z",
     "shell.execute_reply": "2023-01-08T10:20:45.993823Z"
    },
    "papermill": {
     "duration": 786.728043,
     "end_time": "2023-01-08T10:20:45.997186",
     "exception": false,
     "start_time": "2023-01-08T10:07:39.269143",
     "status": "completed"
    },
    "tags": []
   },
   "outputs": [
    {
     "name": "stdout",
     "output_type": "stream",
     "text": [
      "Epoch 1\n",
      "-------------------------------\n",
      "loss: 7.492653  [    0/57777]\n",
      "loss: 1.444379  [32000/57777]\n",
      "Epoch 2\n",
      "-------------------------------\n",
      "loss: 0.651685  [    0/57777]\n",
      "loss: 0.715972  [32000/57777]\n",
      "Epoch 3\n",
      "-------------------------------\n",
      "loss: 0.386207  [    0/57777]\n",
      "loss: 0.650290  [32000/57777]\n",
      "Epoch 4\n",
      "-------------------------------\n",
      "loss: 0.597378  [    0/57777]\n"
     ]
    },
    {
     "ename": "KeyboardInterrupt",
     "evalue": "",
     "output_type": "error",
     "traceback": [
      "\u001b[0;31m---------------------------------------------------------------------------\u001b[0m",
      "\u001b[0;31mKeyboardInterrupt\u001b[0m                         Traceback (most recent call last)",
      "Cell \u001b[0;32mIn[57], line 5\u001b[0m\n\u001b[1;32m      3\u001b[0m \u001b[39mfor\u001b[39;00m t \u001b[39min\u001b[39;00m \u001b[39mrange\u001b[39m(epochs):\n\u001b[1;32m      4\u001b[0m     \u001b[39mprint\u001b[39m(\u001b[39mf\u001b[39m\u001b[39m\"\u001b[39m\u001b[39mEpoch \u001b[39m\u001b[39m{\u001b[39;00mt\u001b[39m \u001b[39m\u001b[39m+\u001b[39m\u001b[39m \u001b[39m\u001b[39m1\u001b[39m\u001b[39m}\u001b[39;00m\u001b[39m\\n\u001b[39;00m\u001b[39m-------------------------------\u001b[39m\u001b[39m\"\u001b[39m)\n\u001b[0;32m----> 5\u001b[0m     epoch_loss_history, epoch_score_history \u001b[39m=\u001b[39m train_loop(train_dataloader, model, loss_fn, optimizer)\n\u001b[1;32m      6\u001b[0m     loss_history\u001b[39m.\u001b[39mextend(epoch_loss_history)\n\u001b[1;32m      7\u001b[0m     score_history\u001b[39m.\u001b[39mextend(epoch_score_history)\n",
      "Cell \u001b[0;32mIn[56], line 11\u001b[0m, in \u001b[0;36mtrain_loop\u001b[0;34m(dataloader, model, loss_fn, optimizer)\u001b[0m\n\u001b[1;32m      7\u001b[0m score_history \u001b[39m=\u001b[39m []\n\u001b[1;32m      9\u001b[0m \u001b[39mfor\u001b[39;00m batch, (X, y) \u001b[39min\u001b[39;00m \u001b[39menumerate\u001b[39m(dataloader):\n\u001b[1;32m     10\u001b[0m     \u001b[39m# Compute prediction and loss\u001b[39;00m\n\u001b[0;32m---> 11\u001b[0m     pred \u001b[39m=\u001b[39m model(X)\u001b[39m.\u001b[39msqueeze(\u001b[39m1\u001b[39m)\n\u001b[1;32m     12\u001b[0m     loss \u001b[39m=\u001b[39m loss_fn(pred, y)\n\u001b[1;32m     14\u001b[0m     \u001b[39m# Backpropagation\u001b[39;00m\n",
      "File \u001b[0;32m~/Documents/Github/data_science_portfolio_project/.venv/lib/python3.9/site-packages/torch/nn/modules/module.py:1194\u001b[0m, in \u001b[0;36mModule._call_impl\u001b[0;34m(self, *input, **kwargs)\u001b[0m\n\u001b[1;32m   1190\u001b[0m \u001b[39m# If we don't have any hooks, we want to skip the rest of the logic in\u001b[39;00m\n\u001b[1;32m   1191\u001b[0m \u001b[39m# this function, and just call forward.\u001b[39;00m\n\u001b[1;32m   1192\u001b[0m \u001b[39mif\u001b[39;00m \u001b[39mnot\u001b[39;00m (\u001b[39mself\u001b[39m\u001b[39m.\u001b[39m_backward_hooks \u001b[39mor\u001b[39;00m \u001b[39mself\u001b[39m\u001b[39m.\u001b[39m_forward_hooks \u001b[39mor\u001b[39;00m \u001b[39mself\u001b[39m\u001b[39m.\u001b[39m_forward_pre_hooks \u001b[39mor\u001b[39;00m _global_backward_hooks\n\u001b[1;32m   1193\u001b[0m         \u001b[39mor\u001b[39;00m _global_forward_hooks \u001b[39mor\u001b[39;00m _global_forward_pre_hooks):\n\u001b[0;32m-> 1194\u001b[0m     \u001b[39mreturn\u001b[39;00m forward_call(\u001b[39m*\u001b[39;49m\u001b[39minput\u001b[39;49m, \u001b[39m*\u001b[39;49m\u001b[39m*\u001b[39;49mkwargs)\n\u001b[1;32m   1195\u001b[0m \u001b[39m# Do not call functions when jit is used\u001b[39;00m\n\u001b[1;32m   1196\u001b[0m full_backward_hooks, non_full_backward_hooks \u001b[39m=\u001b[39m [], []\n",
      "Cell \u001b[0;32mIn[53], line 31\u001b[0m, in \u001b[0;36mNeuralNetwork.forward\u001b[0;34m(self, x)\u001b[0m\n\u001b[1;32m     29\u001b[0m \u001b[39mdef\u001b[39;00m \u001b[39mforward\u001b[39m(\u001b[39mself\u001b[39m, x):\n\u001b[1;32m     30\u001b[0m     x \u001b[39m=\u001b[39m \u001b[39mself\u001b[39m\u001b[39m.\u001b[39mflatten(x)\n\u001b[0;32m---> 31\u001b[0m     logits \u001b[39m=\u001b[39m \u001b[39mself\u001b[39;49m\u001b[39m.\u001b[39;49mhead(x)\n\u001b[1;32m     33\u001b[0m     \u001b[39mreturn\u001b[39;00m logits\n",
      "File \u001b[0;32m~/Documents/Github/data_science_portfolio_project/.venv/lib/python3.9/site-packages/torch/nn/modules/module.py:1194\u001b[0m, in \u001b[0;36mModule._call_impl\u001b[0;34m(self, *input, **kwargs)\u001b[0m\n\u001b[1;32m   1190\u001b[0m \u001b[39m# If we don't have any hooks, we want to skip the rest of the logic in\u001b[39;00m\n\u001b[1;32m   1191\u001b[0m \u001b[39m# this function, and just call forward.\u001b[39;00m\n\u001b[1;32m   1192\u001b[0m \u001b[39mif\u001b[39;00m \u001b[39mnot\u001b[39;00m (\u001b[39mself\u001b[39m\u001b[39m.\u001b[39m_backward_hooks \u001b[39mor\u001b[39;00m \u001b[39mself\u001b[39m\u001b[39m.\u001b[39m_forward_hooks \u001b[39mor\u001b[39;00m \u001b[39mself\u001b[39m\u001b[39m.\u001b[39m_forward_pre_hooks \u001b[39mor\u001b[39;00m _global_backward_hooks\n\u001b[1;32m   1193\u001b[0m         \u001b[39mor\u001b[39;00m _global_forward_hooks \u001b[39mor\u001b[39;00m _global_forward_pre_hooks):\n\u001b[0;32m-> 1194\u001b[0m     \u001b[39mreturn\u001b[39;00m forward_call(\u001b[39m*\u001b[39;49m\u001b[39minput\u001b[39;49m, \u001b[39m*\u001b[39;49m\u001b[39m*\u001b[39;49mkwargs)\n\u001b[1;32m   1195\u001b[0m \u001b[39m# Do not call functions when jit is used\u001b[39;00m\n\u001b[1;32m   1196\u001b[0m full_backward_hooks, non_full_backward_hooks \u001b[39m=\u001b[39m [], []\n",
      "File \u001b[0;32m~/Documents/Github/data_science_portfolio_project/.venv/lib/python3.9/site-packages/torch/nn/modules/container.py:204\u001b[0m, in \u001b[0;36mSequential.forward\u001b[0;34m(self, input)\u001b[0m\n\u001b[1;32m    202\u001b[0m \u001b[39mdef\u001b[39;00m \u001b[39mforward\u001b[39m(\u001b[39mself\u001b[39m, \u001b[39minput\u001b[39m):\n\u001b[1;32m    203\u001b[0m     \u001b[39mfor\u001b[39;00m module \u001b[39min\u001b[39;00m \u001b[39mself\u001b[39m:\n\u001b[0;32m--> 204\u001b[0m         \u001b[39minput\u001b[39m \u001b[39m=\u001b[39m module(\u001b[39minput\u001b[39;49m)\n\u001b[1;32m    205\u001b[0m     \u001b[39mreturn\u001b[39;00m \u001b[39minput\u001b[39m\n",
      "File \u001b[0;32m~/Documents/Github/data_science_portfolio_project/.venv/lib/python3.9/site-packages/torch/nn/modules/module.py:1194\u001b[0m, in \u001b[0;36mModule._call_impl\u001b[0;34m(self, *input, **kwargs)\u001b[0m\n\u001b[1;32m   1190\u001b[0m \u001b[39m# If we don't have any hooks, we want to skip the rest of the logic in\u001b[39;00m\n\u001b[1;32m   1191\u001b[0m \u001b[39m# this function, and just call forward.\u001b[39;00m\n\u001b[1;32m   1192\u001b[0m \u001b[39mif\u001b[39;00m \u001b[39mnot\u001b[39;00m (\u001b[39mself\u001b[39m\u001b[39m.\u001b[39m_backward_hooks \u001b[39mor\u001b[39;00m \u001b[39mself\u001b[39m\u001b[39m.\u001b[39m_forward_hooks \u001b[39mor\u001b[39;00m \u001b[39mself\u001b[39m\u001b[39m.\u001b[39m_forward_pre_hooks \u001b[39mor\u001b[39;00m _global_backward_hooks\n\u001b[1;32m   1193\u001b[0m         \u001b[39mor\u001b[39;00m _global_forward_hooks \u001b[39mor\u001b[39;00m _global_forward_pre_hooks):\n\u001b[0;32m-> 1194\u001b[0m     \u001b[39mreturn\u001b[39;00m forward_call(\u001b[39m*\u001b[39;49m\u001b[39minput\u001b[39;49m, \u001b[39m*\u001b[39;49m\u001b[39m*\u001b[39;49mkwargs)\n\u001b[1;32m   1195\u001b[0m \u001b[39m# Do not call functions when jit is used\u001b[39;00m\n\u001b[1;32m   1196\u001b[0m full_backward_hooks, non_full_backward_hooks \u001b[39m=\u001b[39m [], []\n",
      "File \u001b[0;32m~/Documents/Github/data_science_portfolio_project/.venv/lib/python3.9/site-packages/torch/nn/modules/dropout.py:59\u001b[0m, in \u001b[0;36mDropout.forward\u001b[0;34m(self, input)\u001b[0m\n\u001b[1;32m     58\u001b[0m \u001b[39mdef\u001b[39;00m \u001b[39mforward\u001b[39m(\u001b[39mself\u001b[39m, \u001b[39minput\u001b[39m: Tensor) \u001b[39m-\u001b[39m\u001b[39m>\u001b[39m Tensor:\n\u001b[0;32m---> 59\u001b[0m     \u001b[39mreturn\u001b[39;00m F\u001b[39m.\u001b[39;49mdropout(\u001b[39minput\u001b[39;49m, \u001b[39mself\u001b[39;49m\u001b[39m.\u001b[39;49mp, \u001b[39mself\u001b[39;49m\u001b[39m.\u001b[39;49mtraining, \u001b[39mself\u001b[39;49m\u001b[39m.\u001b[39;49minplace)\n",
      "File \u001b[0;32m~/Documents/Github/data_science_portfolio_project/.venv/lib/python3.9/site-packages/torch/nn/functional.py:1252\u001b[0m, in \u001b[0;36mdropout\u001b[0;34m(input, p, training, inplace)\u001b[0m\n\u001b[1;32m   1250\u001b[0m \u001b[39mif\u001b[39;00m p \u001b[39m<\u001b[39m \u001b[39m0.0\u001b[39m \u001b[39mor\u001b[39;00m p \u001b[39m>\u001b[39m \u001b[39m1.0\u001b[39m:\n\u001b[1;32m   1251\u001b[0m     \u001b[39mraise\u001b[39;00m \u001b[39mValueError\u001b[39;00m(\u001b[39m\"\u001b[39m\u001b[39mdropout probability has to be between 0 and 1, \u001b[39m\u001b[39m\"\u001b[39m \u001b[39m\"\u001b[39m\u001b[39mbut got \u001b[39m\u001b[39m{}\u001b[39;00m\u001b[39m\"\u001b[39m\u001b[39m.\u001b[39mformat(p))\n\u001b[0;32m-> 1252\u001b[0m \u001b[39mreturn\u001b[39;00m _VF\u001b[39m.\u001b[39mdropout_(\u001b[39minput\u001b[39m, p, training) \u001b[39mif\u001b[39;00m inplace \u001b[39melse\u001b[39;00m _VF\u001b[39m.\u001b[39;49mdropout(\u001b[39minput\u001b[39;49m, p, training)\n",
      "\u001b[0;31mKeyboardInterrupt\u001b[0m: "
     ]
    }
   ],
   "source": [
    "loss_history = []\n",
    "score_history = []\n",
    "for t in range(epochs):\n",
    "    print(f\"Epoch {t + 1}\\n-------------------------------\")\n",
    "    epoch_loss_history, epoch_score_history = train_loop(train_dataloader, model, loss_fn, optimizer)\n",
    "    loss_history.extend(epoch_loss_history)\n",
    "    score_history.extend(epoch_score_history)\n",
    "#     validate_loop(validate_dataloader, model, loss_fn)"
   ]
  },
  {
   "cell_type": "markdown",
   "id": "b8ec3fec",
   "metadata": {
    "papermill": {
     "duration": 0.015031,
     "end_time": "2023-01-08T10:20:46.027911",
     "exception": false,
     "start_time": "2023-01-08T10:20:46.012880",
     "status": "completed"
    },
    "tags": []
   },
   "source": [
    "# Show plots"
   ]
  },
  {
   "cell_type": "code",
   "execution_count": 40,
   "id": "75b67108",
   "metadata": {
    "execution": {
     "iopub.execute_input": "2023-01-08T10:20:46.059096Z",
     "iopub.status.busy": "2023-01-08T10:20:46.058714Z",
     "iopub.status.idle": "2023-01-08T10:20:46.064401Z",
     "shell.execute_reply": "2023-01-08T10:20:46.063501Z"
    },
    "papermill": {
     "duration": 0.023387,
     "end_time": "2023-01-08T10:20:46.066276",
     "exception": false,
     "start_time": "2023-01-08T10:20:46.042889",
     "status": "completed"
    },
    "tags": []
   },
   "outputs": [],
   "source": [
    "import matplotlib.pyplot as plt\n",
    " \n",
    "\n",
    "def show_plots(loss_list, score_list, title):\n",
    "  plt.figure(figsize=(15, 9))\n",
    "  plt.plot(loss_list, label=\"Loss history\")\n",
    "  plt.plot(score_list, label=\"RMSE history\")\n",
    "  plt.legend(loc='best')\n",
    "  plt.xlabel('Time')\n",
    "  plt.ylabel(title)\n",
    "  plt.title(title)\n",
    "  plt.show()"
   ]
  },
  {
   "cell_type": "code",
   "execution_count": 41,
   "id": "8cd653f0",
   "metadata": {
    "execution": {
     "iopub.execute_input": "2023-01-08T10:20:46.098573Z",
     "iopub.status.busy": "2023-01-08T10:20:46.096984Z",
     "iopub.status.idle": "2023-01-08T10:20:46.450354Z",
     "shell.execute_reply": "2023-01-08T10:20:46.449344Z"
    },
    "papermill": {
     "duration": 0.372482,
     "end_time": "2023-01-08T10:20:46.453784",
     "exception": false,
     "start_time": "2023-01-08T10:20:46.081302",
     "status": "completed"
    },
    "tags": []
   },
   "outputs": [
    {
     "data": {
      "image/png": "[encoded data removed]",
      "text/plain": [
       "<Figure size 1500x900 with 1 Axes>"
      ]
     },
     "metadata": {},
     "output_type": "display_data"
    }
   ],
   "source": [
    "show_plots(loss_history, score_history, 'Train history')"
   ]
  },
  {
   "cell_type": "markdown",
   "id": "e7366791",
   "metadata": {
    "papermill": {
     "duration": 0.017016,
     "end_time": "2023-01-08T10:20:46.487806",
     "exception": false,
     "start_time": "2023-01-08T10:20:46.470790",
     "status": "completed"
    },
    "tags": []
   },
   "source": [
    "# Submission"
   ]
  },
  {
   "cell_type": "code",
   "execution_count": 42,
   "id": "4239992c",
   "metadata": {
    "execution": {
     "iopub.execute_input": "2023-01-08T10:20:46.522195Z",
     "iopub.status.busy": "2023-01-08T10:20:46.521890Z",
     "iopub.status.idle": "2023-01-08T10:20:46.527427Z",
     "shell.execute_reply": "2023-01-08T10:20:46.526361Z"
    },
    "papermill": {
     "duration": 0.025143,
     "end_time": "2023-01-08T10:20:46.529641",
     "exception": false,
     "start_time": "2023-01-08T10:20:46.504498",
     "status": "completed"
    },
    "tags": []
   },
   "outputs": [],
   "source": [
    "def save_submission(y_pred):  \n",
    "    df = pd.read_csv('test.csv')\n",
    "\n",
    "    submission = df.loc[:, ('id',)]\n",
    "    submission[TARGET] = y_pred\n",
    "    \n",
    "    assert len(y_pred) == submission.shape[0]\n",
    "    assert 2 == submission.shape[1]\n",
    "    \n",
    "    submission.to_csv(\"submission.csv\",index=False)\n",
    "    return submission"
   ]
  },
  {
   "cell_type": "code",
   "execution_count": 43,
   "id": "8fd007f2",
   "metadata": {
    "execution": {
     "iopub.execute_input": "2023-01-08T10:20:46.562781Z",
     "iopub.status.busy": "2023-01-08T10:20:46.561889Z",
     "iopub.status.idle": "2023-01-08T10:20:47.374968Z",
     "shell.execute_reply": "2023-01-08T10:20:47.373853Z"
    },
    "papermill": {
     "duration": 0.832494,
     "end_time": "2023-01-08T10:20:47.377774",
     "exception": false,
     "start_time": "2023-01-08T10:20:46.545280",
     "status": "completed"
    },
    "tags": []
   },
   "outputs": [
    {
     "data": {
      "text/html": [
       "<div>\n",
       "<style scoped>\n",
       "    .dataframe tbody tr th:only-of-type {\n",
       "        vertical-align: middle;\n",
       "    }\n",
       "\n",
       "    .dataframe tbody tr th {\n",
       "        vertical-align: top;\n",
       "    }\n",
       "\n",
       "    .dataframe thead th {\n",
       "        text-align: right;\n",
       "    }\n",
       "</style>\n",
       "<table border=\"1\" class=\"dataframe\">\n",
       "  <thead>\n",
       "    <tr style=\"text-align: right;\">\n",
       "      <th></th>\n",
       "      <th>id</th>\n",
       "      <th>MedHouseVal</th>\n",
       "    </tr>\n",
       "  </thead>\n",
       "  <tbody>\n",
       "    <tr>\n",
       "      <th>0</th>\n",
       "      <td>37137</td>\n",
       "      <td>0.979683</td>\n",
       "    </tr>\n",
       "    <tr>\n",
       "      <th>1</th>\n",
       "      <td>37138</td>\n",
       "      <td>0.979828</td>\n",
       "    </tr>\n",
       "    <tr>\n",
       "      <th>2</th>\n",
       "      <td>37139</td>\n",
       "      <td>0.979780</td>\n",
       "    </tr>\n",
       "    <tr>\n",
       "      <th>3</th>\n",
       "      <td>37140</td>\n",
       "      <td>0.980066</td>\n",
       "    </tr>\n",
       "    <tr>\n",
       "      <th>4</th>\n",
       "      <td>37141</td>\n",
       "      <td>0.979795</td>\n",
       "    </tr>\n",
       "  </tbody>\n",
       "</table>\n",
       "</div>"
      ],
      "text/plain": [
       "      id  MedHouseVal\n",
       "0  37137     0.979683\n",
       "1  37138     0.979828\n",
       "2  37139     0.979780\n",
       "3  37140     0.980066\n",
       "4  37141     0.979795"
      ]
     },
     "execution_count": 43,
     "metadata": {},
     "output_type": "execute_result"
    }
   ],
   "source": [
    "y_pred = predict(test_dataloader, model)\n",
    "save_submission(y_pred).head()"
   ]
  },
  {
   "cell_type": "markdown",
   "id": "02bfa7c2",
   "metadata": {
    "papermill": {
     "duration": 0.015968,
     "end_time": "2023-01-08T10:20:47.410855",
     "exception": false,
     "start_time": "2023-01-08T10:20:47.394887",
     "status": "completed"
    },
    "tags": []
   },
   "source": [
    "If you found this notebook useful, please upvote! Happy New Year!"
   ]
  }
 ],
 "metadata": {
  "kernelspec": {
   "display_name": ".venv",
   "language": "python",
   "name": "python3"
  },
  "language_info": {
   "codemirror_mode": {
    "name": "ipython",
    "version": 3
   },
   "file_extension": ".py",
   "mimetype": "text/x-python",
   "name": "python",
   "nbconvert_exporter": "python",
   "pygments_lexer": "ipython3",
   "version": "3.9.13"
  },
  "papermill": {
   "default_parameters": {},
   "duration": 813.589701,
   "end_time": "2023-01-08T10:20:50.128503",
   "environment_variables": {},
   "exception": null,
   "input_path": "__notebook__.ipynb",
   "output_path": "__notebook__.ipynb",
   "parameters": {},
   "start_time": "2023-01-08T10:07:16.538802",
   "version": "2.3.4"
  },
  "vscode": {
   "interpreter": {
    "hash": "675111725fca00cf5c47bbec148c05600f90b048f52a44ff5ac679806e49bdda"
   }
  }
 },
 "nbformat": 4,
 "nbformat_minor": 5
}
